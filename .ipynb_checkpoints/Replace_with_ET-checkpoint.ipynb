{
 "cells": [
  {
   "cell_type": "code",
   "execution_count": 1,
   "metadata": {},
   "outputs": [],
   "source": [
    "import  xml.etree.ElementTree as ET\n",
    "\n",
    "ET.register_namespace('', \"urn:hl7-org:v3\")\n",
    "ET.register_namespace('xsi', \"http://www.w3.org/2001/XDarrenLSchema-instance\")\n",
    "\n",
    "replacename = [\"{urn:hl7-org:v3}family\" , \"{urn:hl7-org:v3}given\" , \"{urn:hl7-org:v3}city\" , \"{urn:hl7-org:v3}streetAddressLine\" , \"{urn:hl7-org:v3}state\" , \"{urn:hl7-org:v3}country\" , \"{urn:hl7-org:v3}postalcode\"]\n",
    "\n",
    "with open('sample.xml', encoding=\"utf8\") as f:\n",
    "    tree = ET.parse(f)\n",
    "    root = tree.getroot()\n",
    "\n",
    "    for elem in root.getiterator():\n",
    "        if(elem.tag in replacename):\n",
    "            elem.text=\"DEFAULT\"\n",
    "\n",
    "        \n",
    "tree.write('out.xml')"
   ]
  },
  {
   "cell_type": "code",
   "execution_count": null,
   "metadata": {},
   "outputs": [],
   "source": []
  }
 ],
 "metadata": {
  "kernelspec": {
   "display_name": "Python 3",
   "language": "python",
   "name": "python3"
  },
  "language_info": {
   "codemirror_mode": {
    "name": "ipython",
    "version": 3
   },
   "file_extension": ".py",
   "mimetype": "text/x-python",
   "name": "python",
   "nbconvert_exporter": "python",
   "pygments_lexer": "ipython3",
   "version": "3.7.4"
  }
 },
 "nbformat": 4,
 "nbformat_minor": 4
}
